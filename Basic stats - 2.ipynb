{
 "cells": [
  {
   "cell_type": "markdown",
   "id": "88fa8b52",
   "metadata": {},
   "source": [
    "# Estimation and Confidence Intervals\n",
    "\n",
    "We demonstrate:\n",
    "- Using **sample standard deviation** and the **t-distribution**\n",
    "- Using **known population standard deviation** and the **z-distribution**\n"
   ]
  },
  {
   "cell_type": "code",
   "execution_count": null,
   "id": "fba2372c",
   "metadata": {},
   "outputs": [],
   "source": [
    "import numpy as np\n",
    "import scipy.stats as stats\n",
    "import pandas as pd\n",
    "\n",
    "data = [1.13, 1.55, 1.43, 0.92, 1.25, 1.36, 1.32, 0.85, 1.07, 1.48, 1.2, 1.33, 1.18, 1.22, 1.29]\n",
    "n = len(data)\n",
    "mean = np.mean(data)\n",
    "sample_std = np.std(data, ddof=1)\n",
    "pop_std = 0.2\n",
    "\n",
    "confidence_level = 0.99\n",
    "alpha = 1 - confidence_level\n",
    "df = n - 1\n",
    "t_critical = stats.t.ppf(1 - alpha/2, df)\n",
    "margin_of_error_t = t_critical * (sample_std / np.sqrt(n))\n",
    "ci_t = (mean - margin_of_error_t, mean + margin_of_error_t)\n",
    "\n",
    "z_critical = stats.norm.ppf(1 - alpha/2)\n",
    "margin_of_error_z = z_critical * (pop_std / np.sqrt(n))\n",
    "ci_z = (mean - margin_of_error_z, mean + margin_of_error_z)\n",
    "\n",
    "results = pd.DataFrame({\n",
    "    \"Method\": [\"t-distribution (sample std)\", \"z-distribution (known pop std)\"],\n",
    "    \"Mean\": [mean, mean],\n",
    "    \"Lower Bound\": [ci_t[0], ci_z[0]],\n",
    "    \"Upper Bound\": [ci_t[1], ci_z[1]]\n",
    "})\n",
    "\n",
    "results"
   ]
  }
 ],
 "metadata": {
  "kernelspec": {
   "display_name": "Python 3 (ipykernel)",
   "language": "python",
   "name": "python3"
  },
  "language_info": {
   "codemirror_mode": {
    "name": "ipython",
    "version": 3
   },
   "file_extension": ".py",
   "mimetype": "text/x-python",
   "name": "python",
   "nbconvert_exporter": "python",
   "pygments_lexer": "ipython3",
   "version": "3.13.5"
  }
 },
 "nbformat": 4,
 "nbformat_minor": 5
}
