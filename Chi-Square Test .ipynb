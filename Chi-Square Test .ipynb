{
 "cells": [
  {
   "cell_type": "code",
   "execution_count": 2,
   "id": "8c19133d-8420-43e4-b31c-7e068c4ad6c2",
   "metadata": {},
   "outputs": [],
   "source": [
    "import pandas as pd\n",
    "import scipy.stats as stats"
   ]
  },
  {
   "cell_type": "code",
   "execution_count": 5,
   "id": "dbba57ea-532e-4c98-b8b2-d2ef943074f6",
   "metadata": {},
   "outputs": [
    {
     "data": {
      "text/plain": [
       "{'Smart Thermostat': [50, 80, 60, 30, 20],\n",
       " 'Smart Light': [70, 100, 90, 50, 50]}"
      ]
     },
     "execution_count": 5,
     "metadata": {},
     "output_type": "execute_result"
    }
   ],
   "source": [
    "data = {\n",
    "    \"Smart Thermostat\": [50, 80, 60, 30, 20],\n",
    "    \"Smart Light\": [70, 100, 90, 50, 50]\n",
    "}\n",
    "data"
   ]
  },
  {
   "cell_type": "code",
   "execution_count": 8,
   "id": "e22c9918-ef65-4c5d-bfc1-2bf3d57cedcb",
   "metadata": {},
   "outputs": [
    {
     "data": {
      "text/html": [
       "<div>\n",
       "<style scoped>\n",
       "    .dataframe tbody tr th:only-of-type {\n",
       "        vertical-align: middle;\n",
       "    }\n",
       "\n",
       "    .dataframe tbody tr th {\n",
       "        vertical-align: top;\n",
       "    }\n",
       "\n",
       "    .dataframe thead th {\n",
       "        text-align: right;\n",
       "    }\n",
       "</style>\n",
       "<table border=\"1\" class=\"dataframe\">\n",
       "  <thead>\n",
       "    <tr style=\"text-align: right;\">\n",
       "      <th></th>\n",
       "      <th>Smart Thermostat</th>\n",
       "      <th>Smart Light</th>\n",
       "    </tr>\n",
       "  </thead>\n",
       "  <tbody>\n",
       "    <tr>\n",
       "      <th>Very Satisfied</th>\n",
       "      <td>50</td>\n",
       "      <td>70</td>\n",
       "    </tr>\n",
       "    <tr>\n",
       "      <th>Satisfied</th>\n",
       "      <td>80</td>\n",
       "      <td>100</td>\n",
       "    </tr>\n",
       "    <tr>\n",
       "      <th>Neutral</th>\n",
       "      <td>60</td>\n",
       "      <td>90</td>\n",
       "    </tr>\n",
       "    <tr>\n",
       "      <th>Unsatisfied</th>\n",
       "      <td>30</td>\n",
       "      <td>50</td>\n",
       "    </tr>\n",
       "    <tr>\n",
       "      <th>Very Unsatisfied</th>\n",
       "      <td>20</td>\n",
       "      <td>50</td>\n",
       "    </tr>\n",
       "  </tbody>\n",
       "</table>\n",
       "</div>"
      ],
      "text/plain": [
       "                  Smart Thermostat  Smart Light\n",
       "Very Satisfied                  50           70\n",
       "Satisfied                       80          100\n",
       "Neutral                         60           90\n",
       "Unsatisfied                     30           50\n",
       "Very Unsatisfied                20           50"
      ]
     },
     "execution_count": 8,
     "metadata": {},
     "output_type": "execute_result"
    }
   ],
   "source": [
    "satisfaction_levels = [\"Very Satisfied\", \"Satisfied\", \"Neutral\", \"Unsatisfied\", \"Very Unsatisfied\"]\n",
    "df = pd.DataFrame(data, index=satisfaction_levels)\n",
    "df"
   ]
  },
  {
   "cell_type": "code",
   "execution_count": 10,
   "id": "7b3099e3-c975-4792-952c-406960d22bb6",
   "metadata": {},
   "outputs": [
    {
     "name": "stdout",
     "output_type": "stream",
     "text": [
      "Contingency Table:\n",
      "                  Smart Thermostat  Smart Light\n",
      "Very Satisfied                  50           70\n",
      "Satisfied                       80          100\n",
      "Neutral                         60           90\n",
      "Unsatisfied                     30           50\n",
      "Very Unsatisfied                20           50\n"
     ]
    }
   ],
   "source": [
    "print(\"Contingency Table:\")\n",
    "print(df)"
   ]
  },
  {
   "cell_type": "code",
   "execution_count": 12,
   "id": "fb9efddb-e57f-45e9-bb22-1fbfc1f15cd4",
   "metadata": {},
   "outputs": [
    {
     "name": "stdout",
     "output_type": "stream",
     "text": [
      "\n",
      "Step 1: State the Hypotheses\n",
      "Null Hypothesis (H0): There is no association between device type and customer satisfaction.\n",
      "Alternative Hypothesis (H1): There is a significant association between device type and customer satisfaction.\n"
     ]
    }
   ],
   "source": [
    "print(\"\\nStep 1: State the Hypotheses\")\n",
    "print(\"Null Hypothesis (H0): There is no association between device type and customer satisfaction.\")\n",
    "print(\"Alternative Hypothesis (H1): There is a significant association between device type and customer satisfaction.\")\n"
   ]
  },
  {
   "cell_type": "code",
   "execution_count": 13,
   "id": "d779df6f-7166-433d-b70e-92601db92ec6",
   "metadata": {},
   "outputs": [
    {
     "name": "stdout",
     "output_type": "stream",
     "text": [
      "\n",
      "Step 2: Chi-Square Test Statistic Calculation\n",
      "Chi-Square Statistic = 5.6382\n",
      "Degrees of Freedom = 4\n",
      "P-Value = 0.2278\n",
      "\n",
      "Expected Frequencies:\n",
      "                  Smart Thermostat  Smart Light\n",
      "Very Satisfied                48.0         72.0\n",
      "Satisfied                     72.0        108.0\n",
      "Neutral                       60.0         90.0\n",
      "Unsatisfied                   32.0         48.0\n",
      "Very Unsatisfied              28.0         42.0\n"
     ]
    }
   ],
   "source": [
    "chi2, p, dof, expected = stats.chi2_contingency(df)\n",
    "\n",
    "print(\"\\nStep 2: Chi-Square Test Statistic Calculation\")\n",
    "print(f\"Chi-Square Statistic = {chi2:.4f}\")\n",
    "print(f\"Degrees of Freedom = {dof}\")\n",
    "print(f\"P-Value = {p:.4f}\")\n",
    "print(\"\\nExpected Frequencies:\")\n",
    "expected_df = pd.DataFrame(expected, index=satisfaction_levels, columns=[\"Smart Thermostat\", \"Smart Light\"])\n",
    "print(expected_df)\n"
   ]
  },
  {
   "cell_type": "code",
   "execution_count": 15,
   "id": "83ed3679-a17e-42c6-bc5e-ea4706c109f9",
   "metadata": {},
   "outputs": [
    {
     "name": "stdout",
     "output_type": "stream",
     "text": [
      "\n",
      "Step 3: Determine the Critical Value\n",
      "Critical Value at α = 0.05 and 4 degrees of freedom = 9.4877\n"
     ]
    }
   ],
   "source": [
    "alpha = 0.05\n",
    "critical_value = stats.chi2.ppf(1 - alpha, dof)\n",
    "\n",
    "print(\"\\nStep 3: Determine the Critical Value\")\n",
    "print(f\"Critical Value at α = 0.05 and {dof} degrees of freedom = {critical_value:.4f}\")\n"
   ]
  },
  {
   "cell_type": "code",
   "execution_count": 16,
   "id": "1b76c484-2a66-4afa-8ad9-ec1212d6c793",
   "metadata": {},
   "outputs": [
    {
     "name": "stdout",
     "output_type": "stream",
     "text": [
      "\n",
      "Step 4: Make a Decision\n",
      "Since Chi-Square Statistic <= Critical Value, we fail to reject the null hypothesis.\n",
      "\n",
      "Conclusion: There is no significant association between device type and customer satisfaction.\n"
     ]
    }
   ],
   "source": [
    "print(\"\\nStep 4: Make a Decision\")\n",
    "if chi2 > critical_value:\n",
    "    print(\"Since Chi-Square Statistic > Critical Value, we reject the null hypothesis.\")\n",
    "    conclusion = \"There is a significant association between device type and customer satisfaction.\"\n",
    "else:\n",
    "    print(\"Since Chi-Square Statistic <= Critical Value, we fail to reject the null hypothesis.\")\n",
    "    conclusion = \"There is no significant association between device type and customer satisfaction.\"\n",
    "\n",
    "print(f\"\\nConclusion: {conclusion}\")\n"
   ]
  }
 ],
 "metadata": {
  "kernelspec": {
   "display_name": "Python 3 (ipykernel)",
   "language": "python",
   "name": "python3"
  },
  "language_info": {
   "codemirror_mode": {
    "name": "ipython",
    "version": 3
   },
   "file_extension": ".py",
   "mimetype": "text/x-python",
   "name": "python",
   "nbconvert_exporter": "python",
   "pygments_lexer": "ipython3",
   "version": "3.13.5"
  }
 },
 "nbformat": 4,
 "nbformat_minor": 5
}
