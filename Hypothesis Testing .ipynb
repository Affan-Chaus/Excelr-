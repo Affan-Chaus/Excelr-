{
 "cells": [
  {
   "cell_type": "code",
   "execution_count": 9,
   "id": "32081158-f846-4188-a8e9-e630873f1b6d",
   "metadata": {},
   "outputs": [],
   "source": [
    "#import the libraries\n",
    "import pandas as pd\n",
    "import scipy\n",
    "import numpy as np\n",
    "from scipy import stats\n",
    "import math\n",
    "from scipy.stats import norm"
   ]
  },
  {
   "cell_type": "code",
   "execution_count": 10,
   "id": "f4a9f5d4-ef72-401d-8c26-0959cd4a8732",
   "metadata": {},
   "outputs": [
    {
     "name": "stdout",
     "output_type": "stream",
     "text": [
      "Theoretical Weekly Operating Cost: Rs. 4000\n"
     ]
    }
   ],
   "source": [
    "X_mean = 600  \n",
    "theoretical_cost = 1000 + (5 * X_mean)\n",
    "print(f\"Theoretical Weekly Operating Cost: Rs. {theoretical_cost}\")"
   ]
  },
  {
   "cell_type": "code",
   "execution_count": 12,
   "id": "e3f78119-1343-4ce5-af00-1d271dd62fe7",
   "metadata": {},
   "outputs": [
    {
     "name": "stdout",
     "output_type": "stream",
     "text": [
      "Standard Deviation of Weekly Cost (σ): Rs. 125\n"
     ]
    }
   ],
   "source": [
    "sample_mean = 3050  \n",
    "sample_size = 25    \n",
    "std_units = 25      \n",
    "sigma = 5 * std_units  # σ = 5 * std of X = 5 * 25\n",
    "print(f\"Standard Deviation of Weekly Cost (σ): Rs. {sigma}\")\n"
   ]
  },
  {
   "cell_type": "code",
   "execution_count": 14,
   "id": "db49f859-d15c-4f13-b3bf-c8c303ac03a6",
   "metadata": {},
   "outputs": [
    {
     "name": "stdout",
     "output_type": "stream",
     "text": [
      "Test Statistic (Z): -38.00\n"
     ]
    }
   ],
   "source": [
    "z = (sample_mean - theoretical_cost) / (sigma / math.sqrt(sample_size))\n",
    "print(f\"Test Statistic (Z): {z:.2f}\")"
   ]
  },
  {
   "cell_type": "code",
   "execution_count": 16,
   "id": "605b5807-627c-4b59-9c14-be025f62aaa1",
   "metadata": {},
   "outputs": [
    {
     "name": "stdout",
     "output_type": "stream",
     "text": [
      "Critical Value at α = 0.05: 1.64\n"
     ]
    }
   ],
   "source": [
    "alpha = 0.05\n",
    "z_critical = norm.ppf(1 - alpha)\n",
    "print(f\"Critical Value at α = 0.05: {z_critical:.2f}\")"
   ]
  },
  {
   "cell_type": "code",
   "execution_count": 18,
   "id": "1e71e2b8-0042-4acb-9601-85415ce32bc9",
   "metadata": {},
   "outputs": [
    {
     "name": "stdout",
     "output_type": "stream",
     "text": [
      "Decision: Fail to Reject the Null Hypothesis (H0)\n"
     ]
    }
   ],
   "source": [
    "if z > z_critical:\n",
    "    print(\"Decision: Reject the Null Hypothesis (H0)\")\n",
    "else:\n",
    "    print(\"Decision: Fail to Reject the Null Hypothesis (H0)\")"
   ]
  },
  {
   "cell_type": "code",
   "execution_count": 19,
   "id": "5475141e-4026-4958-8520-1139e03e3a54",
   "metadata": {},
   "outputs": [
    {
     "name": "stdout",
     "output_type": "stream",
     "text": [
      "Conclusion: There is insufficient evidence to support the claim that the operating costs have increased beyond the model.\n"
     ]
    }
   ],
   "source": [
    "if z > z_critical:\n",
    "    print(\"Conclusion: There is strong evidence to support the restaurant owners' claim that weekly operating costs are higher than the model suggests.\")\n",
    "else:\n",
    "    print(\"Conclusion: There is insufficient evidence to support the claim that the operating costs have increased beyond the model.\")\n"
   ]
  }
 ],
 "metadata": {
  "kernelspec": {
   "display_name": "Python 3 (ipykernel)",
   "language": "python",
   "name": "python3"
  },
  "language_info": {
   "codemirror_mode": {
    "name": "ipython",
    "version": 3
   },
   "file_extension": ".py",
   "mimetype": "text/x-python",
   "name": "python",
   "nbconvert_exporter": "python",
   "pygments_lexer": "ipython3",
   "version": "3.13.5"
  }
 },
 "nbformat": 4,
 "nbformat_minor": 5
}
